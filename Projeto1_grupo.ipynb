{
 "cells": [
  {
   "cell_type": "markdown",
   "metadata": {},
   "source": [
    "# Projeto 1 - Ciência dos Dados"
   ]
  },
  {
   "cell_type": "markdown",
   "metadata": {},
   "source": [
    "Nome: Bernardo Hersbach Nagem Sarcinelli\n",
    "\n",
    "Nome: Daniel Martins de Freitas \n",
    "\n",
    "Nome: Maria Eduarda Alves Rocha"
   ]
  },
  {
   "cell_type": "markdown",
   "metadata": {},
   "source": [
    "Atenção: Serão permitidos grupos de até 4 pessoas, mas com uma rubrica mais exigente. "
   ]
  },
  {
   "cell_type": "markdown",
   "metadata": {},
   "source": [
    "___\n",
    "Carregando algumas bibliotecas:"
   ]
  },
  {
   "cell_type": "code",
   "execution_count": 405,
   "metadata": {},
   "outputs": [],
   "source": [
    "%matplotlib inline\n",
    "import pandas as pd\n",
    "import matplotlib.pyplot as plt\n",
    "import numpy as np\n",
    "import os\n",
    "from IPython.display import display\n",
    "import re"
   ]
  },
  {
   "cell_type": "code",
   "execution_count": 406,
   "metadata": {},
   "outputs": [
    {
     "name": "stdout",
     "output_type": "stream",
     "text": [
      "Esperamos trabalhar no diretório\n",
      "c:\\Users\\berna\\C dados projeto1\\cdados\n"
     ]
    }
   ],
   "source": [
    "print('Esperamos trabalhar no diretório')\n",
    "print(os.getcwd())"
   ]
  },
  {
   "cell_type": "markdown",
   "metadata": {},
   "source": [
    "Carregando a base de dados com as mensagens dos seus arquivos:"
   ]
  },
  {
   "cell_type": "code",
   "execution_count": 407,
   "metadata": {},
   "outputs": [
    {
     "data": {
      "text/html": [
       "<div>\n",
       "<style scoped>\n",
       "    .dataframe tbody tr th:only-of-type {\n",
       "        vertical-align: middle;\n",
       "    }\n",
       "\n",
       "    .dataframe tbody tr th {\n",
       "        vertical-align: top;\n",
       "    }\n",
       "\n",
       "    .dataframe thead th {\n",
       "        text-align: right;\n",
       "    }\n",
       "</style>\n",
       "<table border=\"1\" class=\"dataframe\">\n",
       "  <thead>\n",
       "    <tr style=\"text-align: right;\">\n",
       "      <th></th>\n",
       "      <th>Comment</th>\n",
       "      <th>Topic</th>\n",
       "    </tr>\n",
       "  </thead>\n",
       "  <tbody>\n",
       "    <tr>\n",
       "      <th>0</th>\n",
       "      <td>Hey, have you heard about floating point error...</td>\n",
       "      <td>Physics</td>\n",
       "    </tr>\n",
       "    <tr>\n",
       "      <th>1</th>\n",
       "      <td>Are you numb?</td>\n",
       "      <td>Physics</td>\n",
       "    </tr>\n",
       "    <tr>\n",
       "      <th>2</th>\n",
       "      <td>thank you!!</td>\n",
       "      <td>Chemistry</td>\n",
       "    </tr>\n",
       "    <tr>\n",
       "      <th>3</th>\n",
       "      <td>just what I was hoping for, thank you!</td>\n",
       "      <td>Chemistry</td>\n",
       "    </tr>\n",
       "    <tr>\n",
       "      <th>4</th>\n",
       "      <td>I thought it said dck and immediately thought ...</td>\n",
       "      <td>Chemistry</td>\n",
       "    </tr>\n",
       "  </tbody>\n",
       "</table>\n",
       "</div>"
      ],
      "text/plain": [
       "                                             Comment      Topic\n",
       "0  Hey, have you heard about floating point error...    Physics\n",
       "1                                      Are you numb?    Physics\n",
       "2                                        thank you!!  Chemistry\n",
       "3             just what I was hoping for, thank you!  Chemistry\n",
       "4  I thought it said dck and immediately thought ...  Chemistry"
      ]
     },
     "execution_count": 407,
     "metadata": {},
     "output_type": "execute_result"
    }
   ],
   "source": [
    "train = pd.read_csv('dados_treino_TRIO_mariaear.csv')\n",
    "train.head(5)"
   ]
  },
  {
   "cell_type": "code",
   "execution_count": 408,
   "metadata": {},
   "outputs": [
    {
     "data": {
      "text/html": [
       "<div>\n",
       "<style scoped>\n",
       "    .dataframe tbody tr th:only-of-type {\n",
       "        vertical-align: middle;\n",
       "    }\n",
       "\n",
       "    .dataframe tbody tr th {\n",
       "        vertical-align: top;\n",
       "    }\n",
       "\n",
       "    .dataframe thead th {\n",
       "        text-align: right;\n",
       "    }\n",
       "</style>\n",
       "<table border=\"1\" class=\"dataframe\">\n",
       "  <thead>\n",
       "    <tr style=\"text-align: right;\">\n",
       "      <th></th>\n",
       "      <th>Comment</th>\n",
       "      <th>Topic</th>\n",
       "    </tr>\n",
       "  </thead>\n",
       "  <tbody>\n",
       "    <tr>\n",
       "      <th>0</th>\n",
       "      <td>Well we learned IUPAC it was just never tested...</td>\n",
       "      <td>Chemistry</td>\n",
       "    </tr>\n",
       "    <tr>\n",
       "      <th>1</th>\n",
       "      <td>ok what happen when i lick licky or when crazy...</td>\n",
       "      <td>Chemistry</td>\n",
       "    </tr>\n",
       "    <tr>\n",
       "      <th>2</th>\n",
       "      <td>Yeah, but 300 trillion is the total global car...</td>\n",
       "      <td>Physics</td>\n",
       "    </tr>\n",
       "    <tr>\n",
       "      <th>3</th>\n",
       "      <td>If only the particles outside the event horizo...</td>\n",
       "      <td>Physics</td>\n",
       "    </tr>\n",
       "    <tr>\n",
       "      <th>4</th>\n",
       "      <td>Here's a fun video describing more properties ...</td>\n",
       "      <td>Physics</td>\n",
       "    </tr>\n",
       "  </tbody>\n",
       "</table>\n",
       "</div>"
      ],
      "text/plain": [
       "                                             Comment      Topic\n",
       "0  Well we learned IUPAC it was just never tested...  Chemistry\n",
       "1  ok what happen when i lick licky or when crazy...  Chemistry\n",
       "2  Yeah, but 300 trillion is the total global car...    Physics\n",
       "3  If only the particles outside the event horizo...    Physics\n",
       "4  Here's a fun video describing more properties ...    Physics"
      ]
     },
     "execution_count": 408,
     "metadata": {},
     "output_type": "execute_result"
    }
   ],
   "source": [
    "test = pd.read_csv('dados_teste_TRIO_mariaear.csv')\n",
    "test.head(5)"
   ]
  },
  {
   "cell_type": "markdown",
   "metadata": {},
   "source": [
    "___\n",
    "## Classificador automático\n"
   ]
  },
  {
   "cell_type": "markdown",
   "metadata": {},
   "source": [
    "Faça aqui uma descrição do seu assunto e o contexto referente aos rótulos cujas mensagens (ou reviews) deverão ser classificadas.\n",
    "\n",
    "CAsos de seleção quimica e fisica"
   ]
  },
  {
   "cell_type": "markdown",
   "metadata": {},
   "source": [
    "___\n",
    "### Montando um Classificador Naive-Bayes\n",
    "\n",
    "Considerando apenas as mensagens da planilha Treinamento, ensine  seu classificador."
   ]
  },
  {
   "cell_type": "code",
   "execution_count": 409,
   "metadata": {
    "scrolled": true
   },
   "outputs": [],
   "source": [
    "'''Conjunto de stopwords a serem removidas visando melhorar as estimativas'''\n",
    "stopwords1=[\"i\", \"me\", \"my\", \"myself\", \"we\", \"our\", \"ours\", \"ourselves\", \"you\", \"your\", \"yours\", \"yourself\", \"yourselves\", \"he\", \"him\", \"his\", \"himself\", \"she\", \"her\", \"hers\", \"herself\", \"it\", \"its\", \"itself\", \"they\", \"them\", \"their\", \"theirs\", \"themselves\", \"what\", \"which\", \"who\", \"whom\", \"this\", \"that\", \"these\", \"those\", \"am\", \"is\", \"are\", \"was\", \"were\", \"be\", \"been\", \"being\", \"have\", \"has\", \"had\", \"having\", \"do\", \"does\", \"did\", \"doing\", \"a\", \"an\", \"the\", \"and\", \"but\", \"if\", \"or\", \"because\", \"as\", \"until\", \"while\", \"of\", \"at\", \"by\", \"for\", \"with\", \"about\", \"against\", \"between\", \"into\", \"through\", \"during\", \"before\", \"after\", \"above\", \"below\", \"to\", \"from\", \"up\", \"down\", \"in\", \"out\", \"on\", \"off\", \"over\", \"under\", \"again\", \"further\", \"then\", \"once\", \"here\", \"there\", \"when\", \"where\", \"why\", \"how\", \"all\", \"any\", \"both\", \"each\", \"few\", \"more\", \"most\", \"other\", \"some\", \"such\", \"no\", \"nor\", \"not\", \"only\", \"own\", \"same\", \"so\", \"than\", \"too\", \"very\", \"s\", \"t\", \"can\", \"will\", \"just\", \"don\", \"should\", \"now\"]\n",
    "def cleanup(text):\n",
    "    \"\"\"\n",
    "        Função de limpeza muito simples que troca alguns sinais básicos por espaços\n",
    "    \"\"\"\n",
    "    \n",
    "    punctuation = '[´\"!-.:?;$'']' # Note que os sinais [] são delimitadores de um conjunto.\n",
    "    pattern = re.compile(punctuation)\n",
    "    pattern2 = re.compile(\"\\n\")\n",
    "    text_subbed = re.sub(pattern, '', text)\n",
    "    text_subbed = re.sub(pattern2, ' ', text_subbed)\n",
    "    return text_subbed\n",
    "\n",
    "def cleaning(text):\n",
    "    '''Outra função de de limpesa que separa mais alguns sibolos'''\n",
    "\n",
    "    pontuacao='`^´~!#$:;.,[]{}’“”<>()/?'\n",
    "    for i in pontuacao:\n",
    "        if i in text:\n",
    "            text=text.replace(i,\" \")\n",
    "\n",
    "    text=text.lower()\n",
    "    return text\n",
    "\n",
    "def linha(text):\n",
    "    '''Função que remove as stopwords do texto'''\n",
    "    text=text.split()\n",
    "    for k in range(len(text)):\n",
    "        for stop in stopwords1:\n",
    "            if text[k]==stop:\n",
    "                text[k]=\"\"\n",
    "        for j in range(len(text[k])-1):\n",
    "            text2=text[k]\n",
    "            if text2[j]+text2[j+1]==\"\\n\":\n",
    "                text2=text2.replace(k[j],\"$\")\n",
    "    text=\",\".join(text)\n",
    "    text=text.replace(\",\",\" \")\n",
    "    return text\n"
   ]
  },
  {
   "cell_type": "code",
   "execution_count": 410,
   "metadata": {},
   "outputs": [
    {
     "data": {
      "text/html": [
       "<div>\n",
       "<style scoped>\n",
       "    .dataframe tbody tr th:only-of-type {\n",
       "        vertical-align: middle;\n",
       "    }\n",
       "\n",
       "    .dataframe tbody tr th {\n",
       "        vertical-align: top;\n",
       "    }\n",
       "\n",
       "    .dataframe thead th {\n",
       "        text-align: right;\n",
       "    }\n",
       "</style>\n",
       "<table border=\"1\" class=\"dataframe\">\n",
       "  <thead>\n",
       "    <tr style=\"text-align: right;\">\n",
       "      <th></th>\n",
       "      <th>Topic</th>\n",
       "      <th>comment_clean</th>\n",
       "    </tr>\n",
       "  </thead>\n",
       "  <tbody>\n",
       "    <tr>\n",
       "      <th>0</th>\n",
       "      <td>Physics</td>\n",
       "      <td>hey   heard  floating point errors seems like ...</td>\n",
       "    </tr>\n",
       "    <tr>\n",
       "      <th>1</th>\n",
       "      <td>Physics</td>\n",
       "      <td>numb</td>\n",
       "    </tr>\n",
       "    <tr>\n",
       "      <th>6</th>\n",
       "      <td>Physics</td>\n",
       "      <td>removed</td>\n",
       "    </tr>\n",
       "    <tr>\n",
       "      <th>8</th>\n",
       "      <td>Physics</td>\n",
       "      <td>force holding  cars   friction  object travel...</td>\n",
       "    </tr>\n",
       "    <tr>\n",
       "      <th>10</th>\n",
       "      <td>Physics</td>\n",
       "      <td>i'm curious  units  mev u  know  electron-volt...</td>\n",
       "    </tr>\n",
       "    <tr>\n",
       "      <th>...</th>\n",
       "      <td>...</td>\n",
       "      <td>...</td>\n",
       "    </tr>\n",
       "    <tr>\n",
       "      <th>3489</th>\n",
       "      <td>Physics</td>\n",
       "      <td>viruses   well  crowds</td>\n",
       "    </tr>\n",
       "    <tr>\n",
       "      <th>3491</th>\n",
       "      <td>Physics</td>\n",
       "      <td>consider  vertical cryogenic liquid storage ta...</td>\n",
       "    </tr>\n",
       "    <tr>\n",
       "      <th>3496</th>\n",
       "      <td>Physics</td>\n",
       "      <td>thanks mate   really great</td>\n",
       "    </tr>\n",
       "    <tr>\n",
       "      <th>3497</th>\n",
       "      <td>Physics</td>\n",
       "      <td>teacher said    object   reach 0º kelvin   ma...</td>\n",
       "    </tr>\n",
       "    <tr>\n",
       "      <th>3498</th>\n",
       "      <td>Physics</td>\n",
       "      <td>good idea   way  get  accurate reading   a...</td>\n",
       "    </tr>\n",
       "  </tbody>\n",
       "</table>\n",
       "<p>1552 rows × 2 columns</p>\n",
       "</div>"
      ],
      "text/plain": [
       "        Topic                                      comment_clean\n",
       "0     Physics  hey   heard  floating point errors seems like ...\n",
       "1     Physics                                               numb\n",
       "6     Physics                                            removed\n",
       "8     Physics   force holding  cars   friction  object travel...\n",
       "10    Physics  i'm curious  units  mev u  know  electron-volt...\n",
       "...       ...                                                ...\n",
       "3489  Physics                            viruses   well  crowds \n",
       "3491  Physics  consider  vertical cryogenic liquid storage ta...\n",
       "3496  Physics                         thanks mate   really great\n",
       "3497  Physics   teacher said    object   reach 0º kelvin   ma...\n",
       "3498  Physics      good idea   way  get  accurate reading   a...\n",
       "\n",
       "[1552 rows x 2 columns]"
      ]
     },
     "execution_count": 410,
     "metadata": {},
     "output_type": "execute_result"
    }
   ],
   "source": [
    "test[\"comment_clean\"]=test.Comment.apply(cleaning)\n",
    "test[\"comment_clean\"]=test.comment_clean.apply(linha)\n",
    "\n",
    "train[\"comment_clean\"]=train.Comment.apply(cleaning)\n",
    "train[\"comment_clean\"]=train.comment_clean.apply(linha)\n",
    "\n",
    "quimica=train.loc[train.Topic==\"Chemistry\",[\"Topic\",\"comment_clean\"]]\n",
    "fisica=train.loc[train.Topic==\"Physics\",[\"Topic\",\"comment_clean\"]]\n",
    "quimica\n",
    "fisica\n"
   ]
  },
  {
   "cell_type": "code",
   "execution_count": 411,
   "metadata": {},
   "outputs": [
    {
     "data": {
      "text/plain": [
       "would             317\n",
       "energy            244\n",
       "like              215\n",
       "time              209\n",
       "physics           194\n",
       "                 ... \n",
       "counterbalance      1\n",
       "ladder              1\n",
       "\"paradox\"           1\n",
       "weighted            1\n",
       "thickness           1\n",
       "Name: count, Length: 8172, dtype: int64"
      ]
     },
     "execution_count": 411,
     "metadata": {},
     "output_type": "execute_result"
    }
   ],
   "source": [
    "# preparando texto para contagem\n",
    "# quimica\n",
    "quimica_string=\"\"\n",
    "for comentario in quimica.comment_clean:\n",
    "    quimica_string+=\" \"+comentario\n",
    "quimica_lista=quimica_string.split()\n",
    "# fisica\n",
    "fisica_string=\"\"\n",
    "for comentario1 in fisica.comment_clean:\n",
    "    fisica_string+=\" \"+comentario1\n",
    "fisica_lista=fisica_string.split()\n",
    "serie_quimica=pd.Series(quimica_lista)\n",
    "serie_fisica=pd.Series(fisica_lista)\n",
    "# contagem\n",
    "tabela_quimica=serie_quimica.value_counts()\n",
    "quimica_total=tabela_quimica.sum()\n",
    "tabela_fisica=serie_fisica.value_counts()\n",
    "fisica_total=tabela_fisica.sum()\n",
    "fisica_total\n",
    "tabela_fisica"
   ]
  },
  {
   "cell_type": "code",
   "execution_count": 412,
   "metadata": {},
   "outputs": [],
   "source": [
    "todas_palavra=quimica_string+fisica_string\n",
    "todas_palavra=todas_palavra.split()\n",
    "serie_total=pd.Series(todas_palavra)\n",
    "tabela_total=serie_total.value_counts()\n",
    "tabela_total_relativa=serie_total.value_counts(True)"
   ]
  },
  {
   "cell_type": "code",
   "execution_count": 413,
   "metadata": {},
   "outputs": [],
   "source": [
    "def classifica_frase(string):\n",
    "    '''Função que calcula a probabilidade da frase ser de química ou fisica utilizando Naïve Bayes e suavisação de Laplace'''\n",
    "    prob_Frase_dadoQ=1\n",
    "    prob_Frase_dadoF=1\n",
    "    string=string.lower()\n",
    "    string=cleaning(string)\n",
    "    frase=string.split()\n",
    "    probQ=tabela_quimica.sum()/tabela_total.sum()\n",
    "    probF=tabela_fisica.sum()/tabela_total.sum()\n",
    "\n",
    "    #Calcula probabilidades Navie Bayes com suavisação de Laplace\n",
    "\n",
    "    for i in frase:\n",
    "        if i in tabela_quimica:\n",
    "            prob_Frase_dadoQ=prob_Frase_dadoQ*((tabela_quimica[i]+1)/(tabela_quimica.sum()+len(tabela_total)))\n",
    "        else:\n",
    "            prob_Frase_dadoQ=prob_Frase_dadoQ*((0+1)/(tabela_quimica.sum()+len(tabela_total)))\n",
    "\n",
    "        if i in tabela_fisica:\n",
    "            prob_Frase_dadoF=prob_Frase_dadoF*((tabela_fisica[i]+1)/(tabela_fisica.sum()+len(tabela_total)))\n",
    "        else:\n",
    "            prob_Frase_dadoF=prob_Frase_dadoF*((0+1)/(tabela_fisica.sum()+len(tabela_total)))\n",
    "\n",
    "    #Calcula a probabilidade da frase pertencer a quimíca ou fisíca\n",
    "    prob_Q_dado_frase=prob_Frase_dadoQ*probQ\n",
    "    prob_F_dado_frase=prob_Frase_dadoF*probF\n",
    "    lista=[prob_Q_dado_frase, prob_F_dado_frase]\n",
    "    return lista\n"
   ]
  },
  {
   "cell_type": "code",
   "execution_count": null,
   "metadata": {},
   "outputs": [],
   "source": [
    "\n",
    "        \n"
   ]
  },
  {
   "cell_type": "code",
   "execution_count": 414,
   "metadata": {},
   "outputs": [],
   "source": [
    "def texto(string):\n",
    "    '''Função que retorna a diciplina em que é mais provaval que a frase pertença'''\n",
    "    lista1=classifica_frase(string)\n",
    "    if lista1[0]>lista1[1]:\n",
    "        return \"Chemistry\"\n",
    "    elif lista1[1]>lista1[0]:\n",
    "        return \"Physics\""
   ]
  },
  {
   "cell_type": "code",
   "execution_count": 415,
   "metadata": {},
   "outputs": [],
   "source": [
    "def teste(li,tabela):\n",
    "    '''Função que retorna taxa de acerto em um determinado teste'''\n",
    "    resultado=[]\n",
    "    true=0\n",
    "    false=0\n",
    "    for item in li:\n",
    "        testado=texto(item)\n",
    "        resultado.append(testado)\n",
    "        for comment in tabela.comment_clean:\n",
    "            \n",
    "            if comment==item:\n",
    "                verdadeiro=(tabela[tabela[\"comment_clean\"]==comment][\"Topic\"].values[0])\n",
    "        \n",
    "        if testado==verdadeiro:\n",
    "            true+=1\n",
    "        elif testado!=verdadeiro:\n",
    "            false+=1\n",
    "    total=len(resultado)\n",
    "    porcentagem=total/100\n",
    "    pacerto=true/porcentagem\n",
    "    tabela[\"resultado\"]=resultado\n",
    "    return pacerto"
   ]
  },
  {
   "cell_type": "code",
   "execution_count": null,
   "metadata": {},
   "outputs": [],
   "source": []
  },
  {
   "cell_type": "code",
   "execution_count": 416,
   "metadata": {},
   "outputs": [
    {
     "data": {
      "text/plain": [
       "Comment          object\n",
       "Topic            object\n",
       "comment_clean    object\n",
       "dtype: object"
      ]
     },
     "execution_count": 416,
     "metadata": {},
     "output_type": "execute_result"
    }
   ],
   "source": [
    "test.dtypes"
   ]
  },
  {
   "cell_type": "code",
   "execution_count": null,
   "metadata": {},
   "outputs": [],
   "source": []
  },
  {
   "cell_type": "markdown",
   "metadata": {
    "jp-MarkdownHeadingCollapsed": true
   },
   "source": [
    "___\n",
    "### Verificando a performance do Classificador\n",
    "\n",
    "Agora você deve testar o seu classificador com a base de Testes."
   ]
  },
  {
   "cell_type": "code",
   "execution_count": 417,
   "metadata": {},
   "outputs": [],
   "source": [
    "lista_teste=[]\n",
    "for i in test.comment_clean:\n",
    "    lista_teste.append(i)"
   ]
  },
  {
   "cell_type": "code",
   "execution_count": 418,
   "metadata": {},
   "outputs": [
    {
     "name": "stdout",
     "output_type": "stream",
     "text": [
      "78.46666666666667 %\n"
     ]
    },
    {
     "data": {
      "text/html": [
       "<div>\n",
       "<style scoped>\n",
       "    .dataframe tbody tr th:only-of-type {\n",
       "        vertical-align: middle;\n",
       "    }\n",
       "\n",
       "    .dataframe tbody tr th {\n",
       "        vertical-align: top;\n",
       "    }\n",
       "\n",
       "    .dataframe thead th {\n",
       "        text-align: right;\n",
       "    }\n",
       "</style>\n",
       "<table border=\"1\" class=\"dataframe\">\n",
       "  <thead>\n",
       "    <tr style=\"text-align: right;\">\n",
       "      <th>Topic</th>\n",
       "      <th>Chemistry</th>\n",
       "      <th>Physics</th>\n",
       "    </tr>\n",
       "    <tr>\n",
       "      <th>resultado</th>\n",
       "      <th></th>\n",
       "      <th></th>\n",
       "    </tr>\n",
       "  </thead>\n",
       "  <tbody>\n",
       "    <tr>\n",
       "      <th>Chemistry</th>\n",
       "      <td>711</td>\n",
       "      <td>159</td>\n",
       "    </tr>\n",
       "    <tr>\n",
       "      <th>Physics</th>\n",
       "      <td>107</td>\n",
       "      <td>472</td>\n",
       "    </tr>\n",
       "  </tbody>\n",
       "</table>\n",
       "</div>"
      ],
      "text/plain": [
       "Topic      Chemistry  Physics\n",
       "resultado                    \n",
       "Chemistry        711      159\n",
       "Physics          107      472"
      ]
     },
     "execution_count": 418,
     "metadata": {},
     "output_type": "execute_result"
    }
   ],
   "source": [
    "#Mostra taxa de acerto e tabela de Rópicos X Resultado no teste: Frases de treinamento\n",
    "print(teste(lista_teste,test),'%')\n",
    "pd.crosstab(test.resultado,test.Topic)"
   ]
  },
  {
   "cell_type": "code",
   "execution_count": 419,
   "metadata": {},
   "outputs": [],
   "source": [
    "lista_teste1=[]\n",
    "for i in train.comment_clean:\n",
    "    lista_teste1.append(i)\n",
    "    "
   ]
  },
  {
   "cell_type": "code",
   "execution_count": 420,
   "metadata": {},
   "outputs": [
    {
     "name": "stdout",
     "output_type": "stream",
     "text": [
      "88.51428571428572 %\n"
     ]
    },
    {
     "data": {
      "text/html": [
       "<div>\n",
       "<style scoped>\n",
       "    .dataframe tbody tr th:only-of-type {\n",
       "        vertical-align: middle;\n",
       "    }\n",
       "\n",
       "    .dataframe tbody tr th {\n",
       "        vertical-align: top;\n",
       "    }\n",
       "\n",
       "    .dataframe thead th {\n",
       "        text-align: right;\n",
       "    }\n",
       "</style>\n",
       "<table border=\"1\" class=\"dataframe\">\n",
       "  <thead>\n",
       "    <tr style=\"text-align: right;\">\n",
       "      <th>Topic</th>\n",
       "      <th>Chemistry</th>\n",
       "      <th>Physics</th>\n",
       "    </tr>\n",
       "    <tr>\n",
       "      <th>resultado</th>\n",
       "      <th></th>\n",
       "      <th></th>\n",
       "    </tr>\n",
       "  </thead>\n",
       "  <tbody>\n",
       "    <tr>\n",
       "      <th>Chemistry</th>\n",
       "      <td>1780</td>\n",
       "      <td>158</td>\n",
       "    </tr>\n",
       "    <tr>\n",
       "      <th>Physics</th>\n",
       "      <td>104</td>\n",
       "      <td>1322</td>\n",
       "    </tr>\n",
       "  </tbody>\n",
       "</table>\n",
       "</div>"
      ],
      "text/plain": [
       "Topic      Chemistry  Physics\n",
       "resultado                    \n",
       "Chemistry       1780      158\n",
       "Physics          104     1322"
      ]
     },
     "execution_count": 420,
     "metadata": {},
     "output_type": "execute_result"
    }
   ],
   "source": [
    "#Mostra taxa de acerto e tabela de Rópicos X Resultado no teste: Frases de teste\n",
    "print(teste(lista_teste1,train),'%')\n",
    "pd.crosstab(train.resultado,train.Topic)"
   ]
  },
  {
   "cell_type": "markdown",
   "metadata": {},
   "source": [
    "___\n",
    "### Concluindo"
   ]
  },
  {
   "cell_type": "markdown",
   "metadata": {},
   "source": [
    "Base de raciocínio: Tabela de exemplo em https://www.ibm.com/br-pt/topics/naive-bayes (seção Avaliando seu classificador Naïve Bayes)\n",
    "\n",
    "Adotando Química como referencial de 'Positivo':\n",
    "- Verdadeiros Positivos: Eram química e o classificador indicou ser química\n",
    "       Coluna: Química    Linha: Química   Valor: 703\n",
    "       Percentual: 711/Total x 100 = 711/1500 x 100 = 47.4%\n",
    "\n",
    "- Falsos Positivos: Eram física mas o classificador indicou ser química\n",
    "       Coluna: Física  Linha: Química  Valor: 160\n",
    "       Percentual: 159/Total x 100 = 159/1500 x 100 = 10.6%\n",
    "\n",
    "- Falsos Negativos: Eram química mas o classificador indicou ser física\n",
    "       Coluna: Química  Linha: Física  Valor: 32\n",
    "       Percentual: 107/Total x 100 = 107/1500 x 100 = 7.133%\n",
    "\n",
    "- Verdadeiros Negativos: Eram física e o classificador indicou ser física\n",
    "       Coluna: Física  Linha: Física  Valor: 467\n",
    "       Percentual: 472/Total x 100 = 467/1500 x 100 = 31.466%\n",
    "\n",
    "- Acurácia: A acurácia é a proporção de previsões corretas em relação ao total de previsões feitas (Fonte: https://www.cursospm3.com.br/blog/naive-bayes/) == Soma dos percentuais Verdadeiros [VP% (Verdadeiramente Química) + VN% (Verdadeiramente Física)]\n",
    "       Acurácia = 47.4% + 31.46% = 78.86%"
   ]
  },
  {
   "cell_type": "markdown",
   "metadata": {},
   "source": [
    "### Porque não se-pode utilizar as mensagens classificadas pelo classificador como amostra de treinamento "
   ]
  },
  {
   "cell_type": "markdown",
   "metadata": {},
   "source": [
    "O uso das frases classificadas pelo próprio classificador se mostra ruim como treinamento visto que ao ser uma frase de tópico supostamente desconhecido cria-se um risco da propagação de erros. Por exemplo se uma frase classificada de forma incorreta como física, porém faz parte do grupo de química, palavras pertencentes ao vocabulário de química podem ser adicionadas ao vocabulário de física ou termos pouco comuns podem se tornar mais comuns no vocabulário de física. No caso de múltiplas indicações incorretas isso pode reduzir a acurácia.   "
   ]
  },
  {
   "cell_type": "markdown",
   "metadata": {},
   "source": [
    "### Naïve Bayes: Outras aplicações "
   ]
  },
  {
   "cell_type": "markdown",
   "metadata": {},
   "source": [
    "Como visto no projeto Classificadores Naïve Bayes conseguem identificar com boa confiabilidade assuntos relacionados a textos. Dessa forma é possível identificar diversas utilidades para essa ferramenta como:\n",
    "1.\tUm sistema de recomendação de posts, baseado nos gostos do usuário \n",
    "2.\tUm sistema para avaliar comentários de um produto como positivo ou negativo\n",
    "\n",
    "Em ambos os casos o algoritmo deve identificar o conteúdo do texto, porém a aplicação a partir da classificação se desenvolve de forma diferente, enquanto o primeiro exemplo poderia classificar os posts em assuntos e comparar novos posts a posts com os quais o usuário já interagiu para determinar sua relevância, o segundo pode ser utilizado para filtrar separar os comentários entre categorias e verificar se a avaliação de um produto é positiva, neutra ou negativa, por exemplo:\n",
    "\n",
    "•\tSe o classificador identificar 70% positivas e 30% negativas, pode-se assumir que os clientes avaliam como um bom produto;\n",
    "\n",
    "•\tMas caso essas proporções sejam muito próximas no caso 52% e 48%, pode se interpretar como avalições neutras.\n",
    "Em ambos os  casos a base de dados deve ser estudada de forma atenciosa pra evitar falsos positivos além de vocabulários característicos as classes utilizadas vizando melhrar a classificação.\n"
   ]
  },
  {
   "cell_type": "markdown",
   "metadata": {},
   "source": [
    "### Limitações"
   ]
  },
  {
   "cell_type": "markdown",
   "metadata": {},
   "source": [
    "Embora os resultados sejam positivos com 78% de acurácia no treinamento o modelo apresenta limitações visto que das 1500 frases presentes no teste o algoritmo fez 266 indicações incorretas e não foi capaz de determinar a qual tópico uma frase pertencia em 51 casos totalizando 317 falhas.\n",
    "\n",
    "Pontos de melhoria filtrar mais palavras de pouca ou nenhuma relevância além das stopwords, valorizar mais palavras características de cada vocabulário no caso química ou física outra solução é o relaxamento da suposição de independência. “(...)pesquisas recentes tentam melhorar sua performance pelo relaxamento da suposição de independência. Friedman e Goldzmidt (1996) propuseram o Augmented Naive Bayes (Naive Bayes aumentado), que pode expressar relações parciais de dependência entre atributos.’’(Aloísio Carlos de Pina, Gerson Zaverucha, Melhorando a Performance do Algoritmo Naive Bayes para Regressão Através da Combinação de Atributos, p1)\n",
    "\n",
    "Referencia: https://www.cos.ufrj.br/~ines/enia07_html/pdf/28095.pdf\n"
   ]
  },
  {
   "cell_type": "markdown",
   "metadata": {},
   "source": [
    "___\n",
    "### Qualidade do Classificador a partir de novas separações das mensagens entre Treinamento e Teste\n",
    "\n",
    "Caso for fazer esse item do Projeto"
   ]
  },
  {
   "cell_type": "code",
   "execution_count": null,
   "metadata": {},
   "outputs": [],
   "source": []
  },
  {
   "cell_type": "code",
   "execution_count": null,
   "metadata": {},
   "outputs": [],
   "source": []
  },
  {
   "cell_type": "code",
   "execution_count": null,
   "metadata": {},
   "outputs": [],
   "source": []
  },
  {
   "cell_type": "markdown",
   "metadata": {},
   "source": [
    "___\n",
    "## Aperfeiçoamento:\n",
    "\n",
    "Leia atentamente a rubrica colocada no enunciado do Projeto 1 (última página). <br>\n",
    "Trabalhos que conseguirem pelo menos conceito B vão evoluir em conceito dependendo da quantidade de itens avançados:\n",
    "\n",
    "* IMPLEMENTOU outras limpezas e transformações que não afetem a qualidade da informação contida nas mensagens, mas tendem a melhorar na classificação das mensagens. Ex: stemming, lemmatization, stopwords.\n",
    "* CONSIDEROU arquivo com três categorias na classificação das variáveis (OBRIGATÓRIO PARA QUARTETOS, sem contar como item avançado)\n",
    "* CONSTRUIU o cálculo das probabilidades corretamente utilizando bigramas E apresentou referência sobre o método utilizado.\n",
    "* EXPLICOU porquê não pode usar novas mensagens classificadas pelo próprio classificador como amostra de treinamento\n",
    "* PROPÔS diferentes cenários para Naïve Bayes fora do contexto do projeto (pelo menos dois cenários diferentes, exceto aqueles já apresentados em sala pelos professores: por exemplo, filtro de spam)\n",
    "* REFLETE criticamente sobre os resultados obtidos, identificando limitações do modelo e sugerindo possíveis melhorias ou diferentes abordagens com indicações concretas de como implementar (indicar como fazer e indicar material de pesquisa).\n",
    "* DOCUMENTOU bem o código, com explicações claras para cada etapa do processo, incluindo o raciocínio por trás das decisões de modelagem e das transformações de dados.\n"
   ]
  },
  {
   "cell_type": "markdown",
   "metadata": {},
   "source": [
    "___\n",
    "## Referências"
   ]
  },
  {
   "cell_type": "markdown",
   "metadata": {},
   "source": [
    "[Naive Bayes and Text Classification](https://arxiv.org/pdf/1410.5329.pdf)  **Mais completo**\n",
    "\n",
    "[Natural Language Processing (Part 17)-Laplacian Smoothing](https://medium.com/@Coursesteach/natural-language-processing-part-17-laplacian-smoothing-7d4be71d0ded) **Mais simples**"
   ]
  },
  {
   "cell_type": "code",
   "execution_count": null,
   "metadata": {},
   "outputs": [],
   "source": []
  }
 ],
 "metadata": {
  "kernelspec": {
   "display_name": "Python 3 (ipykernel)",
   "language": "python",
   "name": "python3"
  },
  "language_info": {
   "codemirror_mode": {
    "name": "ipython",
    "version": 3
   },
   "file_extension": ".py",
   "mimetype": "text/x-python",
   "name": "python",
   "nbconvert_exporter": "python",
   "pygments_lexer": "ipython3",
   "version": "3.11.5"
  }
 },
 "nbformat": 4,
 "nbformat_minor": 4
}
