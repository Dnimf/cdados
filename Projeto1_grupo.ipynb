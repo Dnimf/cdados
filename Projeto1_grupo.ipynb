{
 "cells": [
  {
   "cell_type": "markdown",
   "metadata": {},
   "source": [
    "# Projeto 1 - Ciência dos Dados"
   ]
  },
  {
   "cell_type": "markdown",
   "metadata": {},
   "source": [
    "Nome: _____\n",
    "\n",
    "Nome: _____\n",
    "\n",
    "Nome: _____"
   ]
  },
  {
   "cell_type": "markdown",
   "metadata": {},
   "source": [
    "Atenção: Serão permitidos grupos de até 4 pessoas, mas com uma rubrica mais exigente. "
   ]
  },
  {
   "cell_type": "markdown",
   "metadata": {},
   "source": [
    "___\n",
    "Carregando algumas bibliotecas:"
   ]
  },
  {
   "cell_type": "code",
   "execution_count": 24,
   "metadata": {},
   "outputs": [],
   "source": [
    "%matplotlib inline\n",
    "import pandas as pd\n",
    "import matplotlib.pyplot as plt\n",
    "import numpy as np\n",
    "import os\n",
    "from IPython.display import display\n",
    "import re"
   ]
  },
  {
   "cell_type": "code",
   "execution_count": 25,
   "metadata": {},
   "outputs": [
    {
     "name": "stdout",
     "output_type": "stream",
     "text": [
      "Esperamos trabalhar no diretório\n",
      "c:\\Users\\berna\\C dados projeto1\\cdados\n"
     ]
    }
   ],
   "source": [
    "print('Esperamos trabalhar no diretório')\n",
    "print(os.getcwd())"
   ]
  },
  {
   "cell_type": "markdown",
   "metadata": {},
   "source": [
    "Carregando a base de dados com as mensagens dos seus arquivos:"
   ]
  },
  {
   "cell_type": "code",
   "execution_count": 26,
   "metadata": {},
   "outputs": [
    {
     "data": {
      "text/html": [
       "<div>\n",
       "<style scoped>\n",
       "    .dataframe tbody tr th:only-of-type {\n",
       "        vertical-align: middle;\n",
       "    }\n",
       "\n",
       "    .dataframe tbody tr th {\n",
       "        vertical-align: top;\n",
       "    }\n",
       "\n",
       "    .dataframe thead th {\n",
       "        text-align: right;\n",
       "    }\n",
       "</style>\n",
       "<table border=\"1\" class=\"dataframe\">\n",
       "  <thead>\n",
       "    <tr style=\"text-align: right;\">\n",
       "      <th></th>\n",
       "      <th>Comment</th>\n",
       "      <th>Topic</th>\n",
       "    </tr>\n",
       "  </thead>\n",
       "  <tbody>\n",
       "    <tr>\n",
       "      <th>0</th>\n",
       "      <td>Hey, have you heard about floating point error...</td>\n",
       "      <td>Physics</td>\n",
       "    </tr>\n",
       "    <tr>\n",
       "      <th>1</th>\n",
       "      <td>Are you numb?</td>\n",
       "      <td>Physics</td>\n",
       "    </tr>\n",
       "    <tr>\n",
       "      <th>2</th>\n",
       "      <td>thank you!!</td>\n",
       "      <td>Chemistry</td>\n",
       "    </tr>\n",
       "    <tr>\n",
       "      <th>3</th>\n",
       "      <td>just what I was hoping for, thank you!</td>\n",
       "      <td>Chemistry</td>\n",
       "    </tr>\n",
       "    <tr>\n",
       "      <th>4</th>\n",
       "      <td>I thought it said dck and immediately thought ...</td>\n",
       "      <td>Chemistry</td>\n",
       "    </tr>\n",
       "  </tbody>\n",
       "</table>\n",
       "</div>"
      ],
      "text/plain": [
       "                                             Comment      Topic\n",
       "0  Hey, have you heard about floating point error...    Physics\n",
       "1                                      Are you numb?    Physics\n",
       "2                                        thank you!!  Chemistry\n",
       "3             just what I was hoping for, thank you!  Chemistry\n",
       "4  I thought it said dck and immediately thought ...  Chemistry"
      ]
     },
     "execution_count": 26,
     "metadata": {},
     "output_type": "execute_result"
    }
   ],
   "source": [
    "train = pd.read_csv('dados_treino_TRIO_mariaear.csv')\n",
    "train.head(5)"
   ]
  },
  {
   "cell_type": "code",
   "execution_count": 27,
   "metadata": {},
   "outputs": [
    {
     "data": {
      "text/html": [
       "<div>\n",
       "<style scoped>\n",
       "    .dataframe tbody tr th:only-of-type {\n",
       "        vertical-align: middle;\n",
       "    }\n",
       "\n",
       "    .dataframe tbody tr th {\n",
       "        vertical-align: top;\n",
       "    }\n",
       "\n",
       "    .dataframe thead th {\n",
       "        text-align: right;\n",
       "    }\n",
       "</style>\n",
       "<table border=\"1\" class=\"dataframe\">\n",
       "  <thead>\n",
       "    <tr style=\"text-align: right;\">\n",
       "      <th></th>\n",
       "      <th>Comment</th>\n",
       "      <th>Topic</th>\n",
       "    </tr>\n",
       "  </thead>\n",
       "  <tbody>\n",
       "    <tr>\n",
       "      <th>0</th>\n",
       "      <td>Well we learned IUPAC it was just never tested...</td>\n",
       "      <td>Chemistry</td>\n",
       "    </tr>\n",
       "    <tr>\n",
       "      <th>1</th>\n",
       "      <td>ok what happen when i lick licky or when crazy...</td>\n",
       "      <td>Chemistry</td>\n",
       "    </tr>\n",
       "    <tr>\n",
       "      <th>2</th>\n",
       "      <td>Yeah, but 300 trillion is the total global car...</td>\n",
       "      <td>Physics</td>\n",
       "    </tr>\n",
       "    <tr>\n",
       "      <th>3</th>\n",
       "      <td>If only the particles outside the event horizo...</td>\n",
       "      <td>Physics</td>\n",
       "    </tr>\n",
       "    <tr>\n",
       "      <th>4</th>\n",
       "      <td>Here's a fun video describing more properties ...</td>\n",
       "      <td>Physics</td>\n",
       "    </tr>\n",
       "  </tbody>\n",
       "</table>\n",
       "</div>"
      ],
      "text/plain": [
       "                                             Comment      Topic\n",
       "0  Well we learned IUPAC it was just never tested...  Chemistry\n",
       "1  ok what happen when i lick licky or when crazy...  Chemistry\n",
       "2  Yeah, but 300 trillion is the total global car...    Physics\n",
       "3  If only the particles outside the event horizo...    Physics\n",
       "4  Here's a fun video describing more properties ...    Physics"
      ]
     },
     "execution_count": 27,
     "metadata": {},
     "output_type": "execute_result"
    }
   ],
   "source": [
    "test = pd.read_csv('dados_teste_TRIO_mariaear.csv')\n",
    "test.head(5)"
   ]
  },
  {
   "cell_type": "markdown",
   "metadata": {},
   "source": [
    "___\n",
    "## Classificador automático\n"
   ]
  },
  {
   "cell_type": "markdown",
   "metadata": {},
   "source": [
    "Faça aqui uma descrição do seu assunto e o contexto referente aos rótulos cujas mensagens (ou reviews) deverão ser classificadas.\n",
    "\n",
    "CAsos de seleção quimica e fisica"
   ]
  },
  {
   "cell_type": "markdown",
   "metadata": {},
   "source": [
    "___\n",
    "### Montando um Classificador Naive-Bayes\n",
    "\n",
    "Considerando apenas as mensagens da planilha Treinamento, ensine  seu classificador."
   ]
  },
  {
   "cell_type": "code",
   "execution_count": 28,
   "metadata": {
    "scrolled": true
   },
   "outputs": [
    {
     "name": "stdout",
     "output_type": "stream",
     "text": [
      "\n",
      "luís vaz de camões \n",
      "os lusíadas\n",
      "canto primeiro\n",
      "1\n",
      "as armas e os barões assinalados\n",
      "que da ocidental praia lusitana\n",
      "por mares nunca de antes navegados\n",
      "passaram ainda além da taprobana\n",
      "em perigos e \n",
      "\n",
      "Luís Vaz de Camões \n",
      "Os Lusíadas\n",
      "Canto Primeiro\n",
      "1\n",
      "As armas e os barões assinalados,\n",
      "Que da ocidental praia Lusitana,\n",
      "Por mares nunca de antes navegados,\n",
      "Passaram ainda além da Taprobana,\n",
      "Em perigos e \n"
     ]
    }
   ],
   "source": [
    "#limpar tabela\n",
    "def cleanup(text):\n",
    "    \"\"\"\n",
    "        Função de limpeza muito simples que troca alguns sinais básicos por espaços\n",
    "    \"\"\"\n",
    "    #import string\n",
    "    punctuation = '[´\"!-.:?;$'']' # Note que os sinais [] são delimitadores de um conjunto.\n",
    "    pattern = re.compile(punctuation)\n",
    "    pattern2 = re.compile(\"\\n\")\n",
    "    text_subbed = re.sub(pattern, '', text)\n",
    "    text_subbed = re.sub(pattern2, ' ', text_subbed)\n",
    "    return text_subbed\n",
    "\n",
    "def cleaning(text):\n",
    "    # if \"\\n\" in text:\n",
    "    #     text=text.replace(\"\\n\",\" \")\n",
    "    pontuacao='`^´~!#$:;.,[]{}’“”<>?'\n",
    "    for i in pontuacao:\n",
    "        if i in text:\n",
    "            text=text.replace(i,\"\")\n",
    "    text=text.lower()\n",
    "    return text\n",
    "def linha(text):\n",
    "    text1=text.split()\n",
    "    for k in text1:\n",
    "        for j in range(len(k)-1):\n",
    "            if k[j]+k[j+1]==\"\\n\":\n",
    "                k.replace(k[j],\"$\")\n",
    "    text1=\",\".join(text1)\n",
    "    text1=text1.replace(\",\",\" \")\n",
    "    return text1\n",
    "print(cleaning(\"\\nLuís Vaz de Camões \\nOs Lusíadas\\nCanto Primeiro\\n1\\nAs armas e os barões assinalados,\\nQue da ocidental praia Lusitana,\\nPor mares nunca de antes navegados,\\nPassaram ainda além da Taprobana,\\nEm perigos e \"))\n",
    "print((\"\\nLuís Vaz de Camões \\nOs Lusíadas\\nCanto Primeiro\\n1\\nAs armas e os barões assinalados,\\nQue da ocidental praia Lusitana,\\nPor mares nunca de antes navegados,\\nPassaram ainda além da Taprobana,\\nEm perigos e \"))"
   ]
  },
  {
   "cell_type": "code",
   "execution_count": 29,
   "metadata": {},
   "outputs": [
    {
     "data": {
      "text/plain": [
       "0       Well we learned IUPAC it was just never tested...\n",
       "1       ok what happen when i lick licky or when crazy...\n",
       "2       Yeah but 300 trillion is the total global carb...\n",
       "3       If only the particles outside the event horizo...\n",
       "4       Heres a fun video describing more properties o...\n",
       "                              ...                        \n",
       "1495    So were looking at different subprocesses  You...\n",
       "1496                                  Not if pure ethanol\n",
       "1497    Yes it’s the same concept as ohms law but you ...\n",
       "1498    It’s both It’s written by an organic chemist a...\n",
       "1499    Lol No perpetual motion Just a difference of p...\n",
       "Name: Comment, Length: 1500, dtype: object"
      ]
     },
     "execution_count": 29,
     "metadata": {},
     "output_type": "execute_result"
    }
   ],
   "source": [
    "# # test1=test.Comment\n",
    "# # print(test1)\n",
    "# test.Comment=test.Comment.astype(\"str\")\n",
    "\n",
    "# for i in test.Comment:\n",
    "#     i= cleanup(str(i))\n",
    "#     i=linha(i)\n",
    "#     print(i)\n",
    "# # print(test)\n",
    "test.Comment.apply(cleanup)"
   ]
  },
  {
   "cell_type": "code",
   "execution_count": 30,
   "metadata": {},
   "outputs": [
    {
     "data": {
      "text/html": [
       "<div>\n",
       "<style scoped>\n",
       "    .dataframe tbody tr th:only-of-type {\n",
       "        vertical-align: middle;\n",
       "    }\n",
       "\n",
       "    .dataframe tbody tr th {\n",
       "        vertical-align: top;\n",
       "    }\n",
       "\n",
       "    .dataframe thead th {\n",
       "        text-align: right;\n",
       "    }\n",
       "</style>\n",
       "<table border=\"1\" class=\"dataframe\">\n",
       "  <thead>\n",
       "    <tr style=\"text-align: right;\">\n",
       "      <th></th>\n",
       "      <th>Topic</th>\n",
       "      <th>comment_clean</th>\n",
       "    </tr>\n",
       "  </thead>\n",
       "  <tbody>\n",
       "    <tr>\n",
       "      <th>2</th>\n",
       "      <td>Physics</td>\n",
       "      <td>yeah but 300 trillion is the total global carb...</td>\n",
       "    </tr>\n",
       "    <tr>\n",
       "      <th>3</th>\n",
       "      <td>Physics</td>\n",
       "      <td>if only the particles outside the event horizo...</td>\n",
       "    </tr>\n",
       "    <tr>\n",
       "      <th>4</th>\n",
       "      <td>Physics</td>\n",
       "      <td>here's a fun video describing more properties ...</td>\n",
       "    </tr>\n",
       "    <tr>\n",
       "      <th>6</th>\n",
       "      <td>Physics</td>\n",
       "      <td>the 4 dimensional divergence of an anti-symmet...</td>\n",
       "    </tr>\n",
       "    <tr>\n",
       "      <th>7</th>\n",
       "      <td>Physics</td>\n",
       "      <td>how does it work i imagine the detector measur...</td>\n",
       "    </tr>\n",
       "    <tr>\n",
       "      <th>...</th>\n",
       "      <td>...</td>\n",
       "      <td>...</td>\n",
       "    </tr>\n",
       "    <tr>\n",
       "      <th>1492</th>\n",
       "      <td>Physics</td>\n",
       "      <td>i'm trying to adapt a dbscan algorithm to auto...</td>\n",
       "    </tr>\n",
       "    <tr>\n",
       "      <th>1493</th>\n",
       "      <td>Physics</td>\n",
       "      <td>when a ball is rolled off a horizontal cliff i...</td>\n",
       "    </tr>\n",
       "    <tr>\n",
       "      <th>1495</th>\n",
       "      <td>Physics</td>\n",
       "      <td>so we're looking at different sub-processes yo...</td>\n",
       "    </tr>\n",
       "    <tr>\n",
       "      <th>1497</th>\n",
       "      <td>Physics</td>\n",
       "      <td>yes its the same concept as ohms law but you w...</td>\n",
       "    </tr>\n",
       "    <tr>\n",
       "      <th>1499</th>\n",
       "      <td>Physics</td>\n",
       "      <td>lol no perpetual motion just a difference of p...</td>\n",
       "    </tr>\n",
       "  </tbody>\n",
       "</table>\n",
       "<p>658 rows × 2 columns</p>\n",
       "</div>"
      ],
      "text/plain": [
       "        Topic                                      comment_clean\n",
       "2     Physics  yeah but 300 trillion is the total global carb...\n",
       "3     Physics  if only the particles outside the event horizo...\n",
       "4     Physics  here's a fun video describing more properties ...\n",
       "6     Physics  the 4 dimensional divergence of an anti-symmet...\n",
       "7     Physics  how does it work i imagine the detector measur...\n",
       "...       ...                                                ...\n",
       "1492  Physics  i'm trying to adapt a dbscan algorithm to auto...\n",
       "1493  Physics  when a ball is rolled off a horizontal cliff i...\n",
       "1495  Physics  so we're looking at different sub-processes yo...\n",
       "1497  Physics  yes its the same concept as ohms law but you w...\n",
       "1499  Physics  lol no perpetual motion just a difference of p...\n",
       "\n",
       "[658 rows x 2 columns]"
      ]
     },
     "execution_count": 30,
     "metadata": {},
     "output_type": "execute_result"
    }
   ],
   "source": [
    "test[\"comment_clean\"]=test.Comment.apply(cleaning)\n",
    "test[\"comment_clean\"]=test.comment_clean.apply(linha)\n",
    "# for j in test.comment_clean:\n",
    "#     j=j.lower()\n",
    "quimica=test.loc[test.Topic==\"Chemistry\",[\"Topic\",\"comment_clean\"]]\n",
    "fisica=test.loc[test.Topic==\"Physics\",[\"Topic\",\"comment_clean\"]]\n",
    "quimica\n",
    "fisica\n",
    "# test"
   ]
  },
  {
   "cell_type": "code",
   "execution_count": 31,
   "metadata": {},
   "outputs": [
    {
     "data": {
      "text/plain": [
       "the                     1454\n",
       "to                       704\n",
       "a                        634\n",
       "of                       595\n",
       "is                       588\n",
       "                        ... \n",
       "memes                      1\n",
       "counterintuitiveness       1\n",
       "\\n\\nokay                   1\n",
       "centered                   1\n",
       "version                    1\n",
       "Name: count, Length: 5055, dtype: int64"
      ]
     },
     "execution_count": 31,
     "metadata": {},
     "output_type": "execute_result"
    }
   ],
   "source": [
    "# preparando texto para contagem\n",
    "# quimica\n",
    "quimica_string=\"\"\n",
    "for comentario in quimica.comment_clean:\n",
    "    quimica_string+=\" \"+comentario\n",
    "quimica_lista=quimica_string.split()\n",
    "# fisica\n",
    "fisica_string=\"\"\n",
    "for comentario1 in fisica.comment_clean:\n",
    "    fisica_string+=\" \"+comentario1\n",
    "fisica_lista=fisica_string.split()\n",
    "serie_quimica=pd.Series(quimica_lista)\n",
    "serie_fisica=pd.Series(fisica_lista)\n",
    "# contagem\n",
    "tabela_quimica=serie_quimica.value_counts()\n",
    "quimica_total=tabela_quimica.sum()\n",
    "tabela_fisica=serie_fisica.value_counts()\n",
    "fisica_total=tabela_fisica.sum()\n",
    "fisica_total\n",
    "tabela_fisica"
   ]
  },
  {
   "cell_type": "code",
   "execution_count": 32,
   "metadata": {},
   "outputs": [],
   "source": [
    "tabela_quimica_relativa=serie_quimica.value_counts(True)\n",
    "tabela_fisica_relativa=serie_fisica.value_counts(True)\n"
   ]
  },
  {
   "cell_type": "code",
   "execution_count": 33,
   "metadata": {},
   "outputs": [],
   "source": [
    "todas_palavra=quimica_string+fisica_string\n",
    "todas_palavra=todas_palavra.split()\n",
    "serie_total=pd.Series(todas_palavra)\n",
    "tabela_total=serie_total.value_counts()\n",
    "tabela_total_relativa=serie_total.value_counts(True)"
   ]
  },
  {
   "cell_type": "code",
   "execution_count": 34,
   "metadata": {},
   "outputs": [],
   "source": [
    "def classifica_frase(string):\n",
    "    prob_Frase_dadoQ=1\n",
    "    prob_Frase_dadoF=1\n",
    "    string=string.lower()\n",
    "    string=cleaning(string)\n",
    "    frase=string.split()\n",
    "    probQ=tabela_quimica.sum()/tabela_total.sum()\n",
    "    probF=tabela_fisica.sum()/tabela_total.sum()\n",
    "    for i in frase:\n",
    "        if i in tabela_quimica_relativa:\n",
    "            prob_Frase_dadoQ=prob_Frase_dadoQ*((tabela_quimica[i]+1)/(tabela_quimica.sum()+len(tabela_total)))\n",
    "        else:\n",
    "            prob_Frase_dadoQ=prob_Frase_dadoQ*((0+1)/(tabela_quimica.sum()+len(tabela_total)))\n",
    "\n",
    "        if i in tabela_fisica_relativa:\n",
    "            prob_Frase_dadoF=prob_Frase_dadoF*((tabela_fisica[i]+1)/(tabela_fisica.sum()+len(tabela_total)))\n",
    "        else:\n",
    "            prob_Frase_dadoF=prob_Frase_dadoF*((0+1)/(tabela_fisica.sum()+len(tabela_total)))\n",
    "    # if prob_Frase_dadoQ>0 and prob_Frase_dadoQ<1:\n",
    "    #     if prob_Frase_dadoF==1:\n",
    "    #         prob_Frase_dadoF=\n",
    "    prob_Q_dado_frase=prob_Frase_dadoQ*probQ\n",
    "    prob_F_dado_frase=prob_Frase_dadoF*probF\n",
    "    lista=[prob_Q_dado_frase, prob_F_dado_frase]\n",
    "    return lista\n"
   ]
  },
  {
   "cell_type": "code",
   "execution_count": null,
   "metadata": {},
   "outputs": [],
   "source": [
    "\n",
    "        \n"
   ]
  },
  {
   "cell_type": "code",
   "execution_count": 35,
   "metadata": {},
   "outputs": [],
   "source": [
    "def texto(string):\n",
    "    lista1=classifica_frase(string)\n",
    "    if lista1[0]>lista1[1]:\n",
    "        return \"Chemistry\"\n",
    "    elif lista1[1]>lista1[0]:\n",
    "        return \"Physics\""
   ]
  },
  {
   "cell_type": "code",
   "execution_count": 36,
   "metadata": {},
   "outputs": [],
   "source": [
    "def teste(li):\n",
    "    resultado=[]\n",
    "    true=0\n",
    "    false=0\n",
    "    for item in li:\n",
    "        # print(item)\n",
    "        testado=texto(item)\n",
    "        resultado.append(testado)\n",
    "        for comment in test.comment_clean:\n",
    "            if comment==item:\n",
    "                verdadeiro=(test[test[\"comment_clean\"]==comment][\"Topic\"].values[0])\n",
    "        # print(testado,verdadeiro)\n",
    "        if testado==verdadeiro:\n",
    "\n",
    "            true+=1\n",
    "        elif testado!=verdadeiro:\n",
    "            false+=1\n",
    "    total=len(resultado)\n",
    "    porcentagem=total/100\n",
    "    pacerto=true/porcentagem\n",
    "    return pacerto"
   ]
  },
  {
   "cell_type": "code",
   "execution_count": 37,
   "metadata": {},
   "outputs": [],
   "source": [
    "lista_teste=[]\n",
    "for i in fisica.comment_clean:\n",
    "    lista_teste.append(i)"
   ]
  },
  {
   "cell_type": "code",
   "execution_count": 38,
   "metadata": {},
   "outputs": [
    {
     "name": "stdout",
     "output_type": "stream",
     "text": [
      "83.13069908814589\n"
     ]
    }
   ],
   "source": [
    "print(teste(lista_teste))"
   ]
  },
  {
   "cell_type": "code",
   "execution_count": null,
   "metadata": {},
   "outputs": [],
   "source": []
  },
  {
   "cell_type": "code",
   "execution_count": null,
   "metadata": {},
   "outputs": [],
   "source": []
  },
  {
   "cell_type": "code",
   "execution_count": 39,
   "metadata": {},
   "outputs": [
    {
     "data": {
      "text/plain": [
       "Comment          object\n",
       "Topic            object\n",
       "comment_clean    object\n",
       "dtype: object"
      ]
     },
     "execution_count": 39,
     "metadata": {},
     "output_type": "execute_result"
    }
   ],
   "source": [
    "test.dtypes"
   ]
  },
  {
   "cell_type": "code",
   "execution_count": null,
   "metadata": {},
   "outputs": [],
   "source": []
  },
  {
   "cell_type": "markdown",
   "metadata": {
    "jp-MarkdownHeadingCollapsed": true
   },
   "source": [
    "___\n",
    "### Verificando a performance do Classificador\n",
    "\n",
    "Agora você deve testar o seu classificador com a base de Testes."
   ]
  },
  {
   "cell_type": "code",
   "execution_count": null,
   "metadata": {},
   "outputs": [],
   "source": []
  },
  {
   "cell_type": "code",
   "execution_count": null,
   "metadata": {},
   "outputs": [],
   "source": []
  },
  {
   "cell_type": "code",
   "execution_count": null,
   "metadata": {},
   "outputs": [],
   "source": []
  },
  {
   "cell_type": "markdown",
   "metadata": {},
   "source": [
    "___\n",
    "### Concluindo"
   ]
  },
  {
   "cell_type": "code",
   "execution_count": null,
   "metadata": {},
   "outputs": [],
   "source": []
  },
  {
   "cell_type": "code",
   "execution_count": null,
   "metadata": {},
   "outputs": [],
   "source": []
  },
  {
   "cell_type": "code",
   "execution_count": null,
   "metadata": {},
   "outputs": [],
   "source": []
  },
  {
   "cell_type": "markdown",
   "metadata": {},
   "source": [
    "___\n",
    "### Qualidade do Classificador a partir de novas separações das mensagens entre Treinamento e Teste\n",
    "\n",
    "Caso for fazer esse item do Projeto"
   ]
  },
  {
   "cell_type": "code",
   "execution_count": null,
   "metadata": {},
   "outputs": [],
   "source": []
  },
  {
   "cell_type": "code",
   "execution_count": null,
   "metadata": {},
   "outputs": [],
   "source": []
  },
  {
   "cell_type": "code",
   "execution_count": null,
   "metadata": {},
   "outputs": [],
   "source": []
  },
  {
   "cell_type": "markdown",
   "metadata": {},
   "source": [
    "___\n",
    "## Aperfeiçoamento:\n",
    "\n",
    "Leia atentamente a rubrica colocada no enunciado do Projeto 1 (última página). <br>\n",
    "Trabalhos que conseguirem pelo menos conceito B vão evoluir em conceito dependendo da quantidade de itens avançados:\n",
    "\n",
    "* IMPLEMENTOU outras limpezas e transformações que não afetem a qualidade da informação contida nas mensagens, mas tendem a melhorar na classificação das mensagens. Ex: stemming, lemmatization, stopwords.\n",
    "* CONSIDEROU arquivo com três categorias na classificação das variáveis (OBRIGATÓRIO PARA QUARTETOS, sem contar como item avançado)\n",
    "* CONSTRUIU o cálculo das probabilidades corretamente utilizando bigramas E apresentou referência sobre o método utilizado.\n",
    "* EXPLICOU porquê não pode usar novas mensagens classificadas pelo próprio classificador como amostra de treinamento\n",
    "* PROPÔS diferentes cenários para Naïve Bayes fora do contexto do projeto (pelo menos dois cenários diferentes, exceto aqueles já apresentados em sala pelos professores: por exemplo, filtro de spam)\n",
    "* REFLETE criticamente sobre os resultados obtidos, identificando limitações do modelo e sugerindo possíveis melhorias ou diferentes abordagens com indicações concretas de como implementar (indicar como fazer e indicar material de pesquisa).\n",
    "* DOCUMENTOU bem o código, com explicações claras para cada etapa do processo, incluindo o raciocínio por trás das decisões de modelagem e das transformações de dados.\n"
   ]
  },
  {
   "cell_type": "markdown",
   "metadata": {},
   "source": [
    "___\n",
    "## Referências"
   ]
  },
  {
   "cell_type": "markdown",
   "metadata": {},
   "source": [
    "[Naive Bayes and Text Classification](https://arxiv.org/pdf/1410.5329.pdf)  **Mais completo**\n",
    "\n",
    "[Natural Language Processing (Part 17)-Laplacian Smoothing](https://medium.com/@Coursesteach/natural-language-processing-part-17-laplacian-smoothing-7d4be71d0ded) **Mais simples**"
   ]
  },
  {
   "cell_type": "code",
   "execution_count": null,
   "metadata": {},
   "outputs": [],
   "source": []
  }
 ],
 "metadata": {
  "kernelspec": {
   "display_name": "Python 3 (ipykernel)",
   "language": "python",
   "name": "python3"
  },
  "language_info": {
   "codemirror_mode": {
    "name": "ipython",
    "version": 3
   },
   "file_extension": ".py",
   "mimetype": "text/x-python",
   "name": "python",
   "nbconvert_exporter": "python",
   "pygments_lexer": "ipython3",
   "version": "3.11.5"
  }
 },
 "nbformat": 4,
 "nbformat_minor": 4
}
